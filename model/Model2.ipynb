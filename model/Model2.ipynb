{
  "nbformat": 4,
  "nbformat_minor": 0,
  "metadata": {
    "colab": {
      "provenance": []
    },
    "kernelspec": {
      "name": "python3",
      "display_name": "Python 3"
    },
    "language_info": {
      "name": "python"
    }
  },
  "cells": [
    {
      "cell_type": "code",
      "execution_count": null,
      "metadata": {
        "id": "9hwCzgQYUXxB"
      },
      "outputs": [],
      "source": [
        "from flask import Flask, jsonify, request\n",
        "import pandas as pd\n",
        "from sklearn.model_selection import train_test_split\n",
        "from sklearn.preprocessing import LabelEncoder\n",
        "from tensorflow import keras\n",
        "from keras import layers\n",
        "from keras.preprocessing.text import Tokenizer\n",
        "from keras.preprocessing.sequence import pad_sequences\n",
        "import numpy as np\n",
        "\n",
        "# Inisialisasi dataset\n",
        "dataset_file = 'D:\\\\BELAJAR PYTHON\\\\Capstone\\\\dataset.csv'\n",
        "dataset = pd.read_csv(dataset_file)\n",
        "\n",
        "# Inisialisasi model neural network dengan Keras\n",
        "def create_neural_network_model(input_dim, output_dim):\n",
        "    model = keras.Sequential([\n",
        "        layers.Embedding(input_dim=input_dim, output_dim=64),\n",
        "        layers.LSTM(64),\n",
        "        layers.Dense(output_dim, activation='softmax')\n",
        "    ])\n",
        "    model.compile(optimizer='adam', loss='categorical_crossentropy', metrics=['accuracy'])\n",
        "    return model\n",
        "\n",
        "# Tokenisasi dan padding untuk input model neural network\n",
        "tokenizer = Tokenizer()\n",
        "tokenizer.fit_on_texts(dataset['Sentence'])\n",
        "X = tokenizer.texts_to_sequences(dataset['Sentence'])\n",
        "X = pad_sequences(X)\n",
        "\n",
        "# One-hot encode labels\n",
        "label_encoder = LabelEncoder()\n",
        "y = label_encoder.fit_transform(dataset['Type'])\n",
        "num_classes = len(label_encoder.classes_)\n",
        "y = keras.utils.to_categorical(y, num_classes=num_classes)\n",
        "\n",
        "# Bagi dataset menjadi data pelatihan dan data uji\n",
        "X_train, X_test, y_train, y_test = train_test_split(X, y, test_size=0.2, random_state=42)\n",
        "\n",
        "# Inisialisasi model neural network\n",
        "input_dim = len(tokenizer.word_index) + 1\n",
        "output_dim = num_classes\n",
        "model = create_neural_network_model(input_dim, output_dim)\n",
        "\n",
        "# Latih model dengan data pelatihan\n",
        "model.fit(X_train, y_train, epochs=10, batch_size=32, validation_data=(X_test, y_test))\n",
        "\n",
        "model.save('Capstone_style_recommendation_model.h5')\n",
        "\n",
        "# How to access data from cloud storage in cloud function\n",
        "\n",
        "def model_prediction(model, Sentence):\n",
        "  input_sequence = tokenizer.texts_to_sequences([Sentence])\n",
        "  input_padded = pad_sequences(input_sequence)\n",
        "\n",
        "  prediction =  model.predict (input_padded)\n",
        "\n",
        "  predicted_style = label_encoder.inverse_transform([np.argmax(prediction)])\n",
        "\n",
        "  return predicted_style[0]\n",
        "\n",
        "sentence_to_predict = \"I don't like to be alone.\"\n",
        "predicted_style = model_prediction(model, sentence_to_predict)\n",
        "print(f\"The predicted learning style for the sentence is: {predicted_style}\")"
      ]
    }
  ]
}